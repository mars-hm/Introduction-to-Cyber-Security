{
  "nbformat": 4,
  "nbformat_minor": 0,
  "metadata": {
    "colab": {
      "provenance": [],
      "authorship_tag": "ABX9TyMgMdjV/RiMsqScBoZ4O9UG",
      "include_colab_link": true
    },
    "kernelspec": {
      "name": "python3",
      "display_name": "Python 3"
    },
    "language_info": {
      "name": "python"
    }
  },
  "cells": [
    {
      "cell_type": "markdown",
      "metadata": {
        "id": "view-in-github",
        "colab_type": "text"
      },
      "source": [
        "<a href=\"https://colab.research.google.com/github/mars-hm/Introduction-to-Cyber-Security/blob/main/Python%20Script%20for%20Windows%20Registry%20Manipulation.ipynb\" target=\"_parent\"><img src=\"https://colab.research.google.com/assets/colab-badge.svg\" alt=\"Open In Colab\"/></a>"
      ]
    },
    {
      "cell_type": "markdown",
      "source": [
        "The Windows Registry is a crucial system database used by the Windows operating system to store configuration settings for the system and applications that opt to use the registry. Your assignment is to develop a Python script capable of interacting with the Windows Registry. The script should be able to write new entries, read existing entries, and handle potential errors effectively.\n"
      ],
      "metadata": {
        "id": "-bDgydV6mv9Y"
      }
    },
    {
      "cell_type": "code",
      "execution_count": null,
      "metadata": {
        "id": "XaIQREtgmurt"
      },
      "outputs": [],
      "source": [
        "import winreg as wrg\n",
        "\n",
        "def read(key_path, value_name):\n",
        "    try:\n",
        "        location = wrg.HKEY_CURRENT_USER\n",
        "        soft = wrg.OpenKeyEx(location, key_path)\n",
        "        value = wrg.QueryValueEx(soft, value_name)\n",
        "        wrg.CloseKey(soft)\n",
        "        print(f\"Value of '{value_name}' in '{key_path}': {value[0]}\")\n",
        "    except FileNotFoundError:\n",
        "        print(f\"Entry '{value_name}' not found in '{key_path}'.\")\n",
        "    except WindowsError as e:\n",
        "        print(f\"Error reading entry: {e.strerror}\")\n",
        "    except Exception as e:\n",
        "        print(f\"An error occurred: {str(e)}\")\n",
        "\n",
        "def write(key_path, value_name, value_data):\n",
        "    try:\n",
        "        location = wrg.HKEY_CURRENT_USER\n",
        "        soft = wrg.OpenKeyEx(location, key_path, 0, wrg.KEY_SET_VALUE)\n",
        "        wrg.SetValueEx(soft, value_name, 0, wrg.REG_SZ, str(value_data))\n",
        "        wrg.CloseKey(soft)\n",
        "        print(f\"Entry '{value_name}' added to '{key_path}' successfully.\")\n",
        "    except WindowsError as e:\n",
        "        print(f\"Error writing entry: {e.strerror}\")\n",
        "    except Exception as e:\n",
        "        print(f\"An error occurred: {str(e)}\")\n",
        "\n",
        "def dentry(key_path, value_name):\n",
        "    try:\n",
        "        location = wrg.HKEY_CURRENT_USER\n",
        "        soft = wrg.OpenKeyEx(location, key_path, 0, wrg.KEY_SET_VALUE)\n",
        "        wrg.DeleteValue(soft, value_name)\n",
        "        wrg.CloseKey(soft)\n",
        "        print(f\"Entry '{value_name}' deleted from '{key_path}' successfully.\")\n",
        "    except FileNotFoundError:\n",
        "        print(f\"Entry '{value_name}' not found in '{key_path}'.\")\n",
        "    except WindowsError as e:\n",
        "        print(f\"Error deleting entry: {e.strerror}\")\n",
        "    except Exception as e:\n",
        "        print(f\"An error occurred: {str(e)}\")\n",
        "\n",
        "def dkey(key_path):\n",
        "    try:\n",
        "        location = wrg.HKEY_CURRENT_USER\n",
        "        soft = wrg.OpenKeyEx(location, key_path, 0, wrg.KEY_SET_VALUE)\n",
        "        wrg.DeleteKey(soft, \"\")\n",
        "        wrg.CloseKey(soft)\n",
        "        print(f\"Key '{key_path}' deleted successfully.\")\n",
        "    except FileNotFoundError:\n",
        "        print(f\"Key '{key_path}' not found.\")\n",
        "    except WindowsError as e:\n",
        "        print(f\"Error deleting key: {e.strerror}\")\n",
        "    except Exception as e:\n",
        "        print(f\"An error occurred: {str(e)}\")\n",
        "\n",
        "def main():\n",
        "    while True:\n",
        "        print(\"Select one of these to perform an action.\")\n",
        "        print(\"1: Read a Registry Entry\")\n",
        "        print(\"2: Write a Registry Entry\")\n",
        "        print(\"3: Delete a Registry Entry\")\n",
        "        print(\"4: Delete a Registry Key\")\n",
        "        print(\"5: Exit\")\n",
        "\n",
        "        action = input(\"Enter the number of the action you want to perform: \")\n",
        "\n",
        "        if action == \"1\":\n",
        "            key_path = input(\"Enter the key path: \")\n",
        "            value_name = input(\"Enter the value name: \")\n",
        "            read_registry_entry(key_path, value_name)\n",
        "\n",
        "        elif action == \"2\":\n",
        "            key_path = input(\"Enter the key path: \")\n",
        "            value_name = input(\"Enter the value name: \")\n",
        "            value_data = input(\"Enter the value data: \")\n",
        "            write_registry_entry(key_path, value_name, value_data)\n",
        "\n",
        "        elif action == \"3\":\n",
        "            key_path = input(\"Enter the key path: \")\n",
        "            value_name = input(\"Enter the value name: \")\n",
        "            dentry(key_path, value_name)\n",
        "\n",
        "        elif action == \"4\":\n",
        "            key_path = input(\"Enter the key path: \")\n",
        "            dkey(key_path)\n",
        "\n",
        "        elif action == \"5\":\n",
        "            print(\"Exiting the program.\")\n",
        "            break\n",
        "\n",
        "        else:\n",
        "            print(\"Invalid option. Please choose '1', '2', '3', '4', or '5'.\")\n",
        "\n",
        "if __name__ == \"__main__\":\n",
        "    main()"
      ]
    }
  ]
}